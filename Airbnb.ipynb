{
 "cells": [
  {
   "cell_type": "code",
   "execution_count": null,
   "id": "cf2e66f1-3aeb-40b0-b33b-ea112a398b2e",
   "metadata": {},
   "outputs": [
    {
     "data": {
      "text/plain": [
       "Index(['id', 'listing_url', 'scrape_id', 'last_scraped', 'source', 'name',\n",
       "       'description', 'neighborhood_overview', 'picture_url', 'host_id',\n",
       "       'host_url', 'host_name', 'host_since', 'host_location', 'host_about',\n",
       "       'host_response_time', 'host_response_rate', 'host_acceptance_rate',\n",
       "       'host_is_superhost', 'host_thumbnail_url', 'host_picture_url',\n",
       "       'host_neighbourhood', 'host_listings_count',\n",
       "       'host_total_listings_count', 'host_verifications',\n",
       "       'host_has_profile_pic', 'host_identity_verified', 'neighbourhood',\n",
       "       'neighbourhood_cleansed', 'neighbourhood_group_cleansed', 'latitude',\n",
       "       'longitude', 'property_type', 'room_type', 'accommodates', 'bathrooms',\n",
       "       'bathrooms_text', 'bedrooms', 'beds', 'amenities', 'price',\n",
       "       'minimum_nights', 'maximum_nights', 'minimum_minimum_nights',\n",
       "       'maximum_minimum_nights', 'minimum_maximum_nights',\n",
       "       'maximum_maximum_nights', 'minimum_nights_avg_ntm',\n",
       "       'maximum_nights_avg_ntm', 'calendar_updated', 'has_availability',\n",
       "       'availability_30', 'availability_60', 'availability_90',\n",
       "       'availability_365', 'calendar_last_scraped', 'number_of_reviews',\n",
       "       'number_of_reviews_ltm', 'number_of_reviews_l30d', 'first_review',\n",
       "       'last_review', 'review_scores_rating', 'review_scores_accuracy',\n",
       "       'review_scores_cleanliness', 'review_scores_checkin',\n",
       "       'review_scores_communication', 'review_scores_location',\n",
       "       'review_scores_value', 'license', 'instant_bookable',\n",
       "       'calculated_host_listings_count',\n",
       "       'calculated_host_listings_count_entire_homes',\n",
       "       'calculated_host_listings_count_private_rooms',\n",
       "       'calculated_host_listings_count_shared_rooms', 'reviews_per_month'],\n",
       "      dtype='object')\n",
       "             id  ... reviews_per_month\n",
       "0          2595  ...              0.27\n",
       "1          6848  ...              1.04\n",
       "2          6872  ...              0.03\n",
       "3          6990  ...              1.37\n",
       "4          7064  ...              0.08\n",
       "...         ...  ...               ...\n",
       "20625  52952799  ...              2.77\n",
       "20626  52953940  ...               NaN\n",
       "20627  52956029  ...               NaN\n",
       "20628  52966412  ...              6.31\n",
       "20629  52967909  ...              1.13\n",
       "\n",
       "[20630 rows x 75 columns]\n",
       "                 id  ... reviews_per_month\n",
       "0      5.296837e+07  ...              1.03\n",
       "1      5.296884e+07  ...              0.09\n",
       "2      5.296908e+07  ...              0.76\n",
       "3      5.296922e+07  ...              0.35\n",
       "4      5.297109e+07  ...              2.08\n",
       "...             ...  ...               ...\n",
       "16913  1.280000e+18  ...               NaN\n",
       "16914  1.280000e+18  ...               NaN\n",
       "16915  1.280000e+18  ...               NaN\n",
       "16916  1.280000e+18  ...               NaN\n",
       "16917  1.280000e+18  ...               NaN\n",
       "\n",
       "[16918 rows x 75 columns]\n",
       "                 id  ... reviews_per_month\n",
       "0      2.595000e+03  ...              0.27\n",
       "1      6.848000e+03  ...              1.04\n",
       "2      6.872000e+03  ...              0.03\n",
       "3      6.990000e+03  ...              1.37\n",
       "4      7.064000e+03  ...              0.08\n",
       "...             ...  ...               ...\n",
       "16913  1.280000e+18  ...               NaN\n",
       "16914  1.280000e+18  ...               NaN\n",
       "16915  1.280000e+18  ...               NaN\n",
       "16916  1.280000e+18  ...               NaN\n",
       "16917  1.280000e+18  ...               NaN\n",
       "\n",
       "[37548 rows x 75 columns]\n"
      ]
     },
     "metadata": {},
     "output_type": "display_data"
    }
   ],
   "source": [
    "import pandas as pd\n",
    "import seaborn as sns\n",
    "import matplotlib.pyplot as plt\n",
    "import numpy as np\n",
    "import geopandas as gpd\n",
    "#import plotly.express as px\n",
    "\n",
    "listings1 = pd.read_csv(\"C:/Users/marioreyes/Desktop/Data Analysis Practice/Python/Project/airbnb_part1.csv\")\n",
    "listings2 = pd.read_csv(\"C:/Users/marioreyes/Desktop/Data Analysis Practice/Python/Project/airbnb_part2.csv\")\n",
    "listings =  pd.concat([listings1, listings2])\n",
    "listings.head()\n",
    "\n",
    "print(listings.columns)\n",
    "print(listings1)\n",
    "print(listings2)\n",
    "print(listings)"
   ]
  },
  {
   "cell_type": "code",
   "execution_count": null,
   "id": "8a770d38-d833-4b83-9798-a99b32ff22bd",
   "metadata": {},
   "outputs": [
    {
     "data": {
      "text/plain": [
       "37548\n"
      ]
     },
     "metadata": {},
     "output_type": "display_data"
    }
   ],
   "source": [
    "#Keeping columns we want to investigate\n",
    "listings = listings[['id', 'name', 'neighborhood_overview', 'host_id',\n",
    "        'host_name', 'host_since',\n",
    "        'host_response_rate', 'host_acceptance_rate',\n",
    "       'neighbourhood_cleansed', 'neighbourhood_group_cleansed', 'latitude',\n",
    "       'longitude', 'room_type', 'accommodates', 'bathrooms',\n",
    "        'bedrooms', 'beds', 'price', 'number_of_reviews', \n",
    "        'review_scores_rating', 'review_scores_accuracy', 'availability_365',\n",
    "       'review_scores_cleanliness', 'review_scores_checkin',\n",
    "       'review_scores_communication', 'review_scores_location','reviews_per_month']]\n",
    "#checking that the number of rows is the sum of listings1 and listings2\n",
    "print(len(listings))"
   ]
  },
  {
   "cell_type": "code",
   "execution_count": null,
   "id": "2b3ad64b-f4f2-463e-9374-1353a7d0a8b9",
   "metadata": {
    "scrolled": true
   },
   "outputs": [
    {
     "data": {
      "text/plain": [
       "<class 'pandas.core.frame.DataFrame'>\n",
       "Index: 37548 entries, 0 to 16917\n",
       "Data columns (total 27 columns):\n",
       " #   Column                        Non-Null Count  Dtype  \n",
       "---  ------                        --------------  -----  \n",
       " 0   id                            37548 non-null  float64\n",
       " 1   name                          37546 non-null  object \n",
       " 2   neighborhood_overview         20574 non-null  object \n",
       " 3   host_id                       37548 non-null  int64  \n",
       " 4   host_name                     37543 non-null  object \n",
       " 5   host_since                    37543 non-null  object \n",
       " 6   host_response_rate            22547 non-null  object \n",
       " 7   host_acceptance_rate          22565 non-null  object \n",
       " 8   neighbourhood_cleansed        37548 non-null  object \n",
       " 9   neighbourhood_group_cleansed  37548 non-null  object \n",
       " 10  latitude                      37548 non-null  float64\n",
       " 11  longitude                     37548 non-null  float64\n",
       " 12  room_type                     37548 non-null  object \n",
       " 13  accommodates                  37548 non-null  int64  \n",
       " 14  bathrooms                     22739 non-null  float64\n",
       " 15  bedrooms                      31565 non-null  float64\n",
       " 16  beds                          22596 non-null  float64\n",
       " 17  price                         22741 non-null  object \n",
       " 18  number_of_reviews             37548 non-null  int64  \n",
       " 19  review_scores_rating          25988 non-null  float64\n",
       " 20  review_scores_accuracy        25977 non-null  float64\n",
       " 21  availability_365              37548 non-null  int64  \n",
       " 22  review_scores_cleanliness     25987 non-null  float64\n",
       " 23  review_scores_checkin         25973 non-null  float64\n",
       " 24  review_scores_communication   25982 non-null  float64\n",
       " 25  review_scores_location        25970 non-null  float64\n",
       " 26  reviews_per_month             25988 non-null  float64\n",
       "dtypes: float64(13), int64(4), object(10)\n",
       "memory usage: 8.0+ MB\n"
      ]
     },
     "metadata": {},
     "output_type": "display_data"
    }
   ],
   "source": [
    "listings.info()"
   ]
  },
  {
   "cell_type": "code",
   "execution_count": null,
   "id": "1875584c-b8a4-4b9e-8db4-822c249cda14",
   "metadata": {},
   "outputs": [
    {
     "data": {
      "text/plain": [
       "<class 'pandas.core.frame.DataFrame'>\n",
       "Index: 37548 entries, 0 to 16917\n",
       "Data columns (total 27 columns):\n",
       " #   Column                        Non-Null Count  Dtype  \n",
       "---  ------                        --------------  -----  \n",
       " 0   id                            37548 non-null  float64\n",
       " 1   name                          37546 non-null  object \n",
       " 2   neighborhood_overview         20574 non-null  object \n",
       " 3   host_id                       37548 non-null  int64  \n",
       " 4   host_name                     37543 non-null  object \n",
       " 5   host_since                    37543 non-null  object \n",
       " 6   host_response_rate            22547 non-null  float64\n",
       " 7   host_acceptance_rate          22565 non-null  float64\n",
       " 8   neighbourhood_cleansed        37548 non-null  object \n",
       " 9   neighbourhood_group_cleansed  37548 non-null  object \n",
       " 10  latitude                      37548 non-null  float64\n",
       " 11  longitude                     37548 non-null  float64\n",
       " 12  room_type                     37548 non-null  object \n",
       " 13  accommodates                  37548 non-null  int64  \n",
       " 14  bathrooms                     22739 non-null  float64\n",
       " 15  bedrooms                      31565 non-null  float64\n",
       " 16  beds                          22596 non-null  float64\n",
       " 17  price                         22741 non-null  float64\n",
       " 18  number_of_reviews             37548 non-null  int64  \n",
       " 19  review_scores_rating          25988 non-null  float64\n",
       " 20  review_scores_accuracy        25977 non-null  float64\n",
       " 21  availability_365              37548 non-null  int64  \n",
       " 22  review_scores_cleanliness     25987 non-null  float64\n",
       " 23  review_scores_checkin         25973 non-null  float64\n",
       " 24  review_scores_communication   25982 non-null  float64\n",
       " 25  review_scores_location        25970 non-null  float64\n",
       " 26  reviews_per_month             25988 non-null  float64\n",
       "dtypes: float64(16), int64(4), object(7)\n",
       "memory usage: 8.0+ MB\n",
       "None\n"
      ]
     },
     "metadata": {},
     "output_type": "display_data"
    }
   ],
   "source": [
    "#Coverting columsn to correct data types\n",
    "listings['price'] = listings['price'].replace('[^\\\\d.]','',regex=True).astype(float)\n",
    "listings['host_response_rate']=listings['host_response_rate'].astype(str).str.strip('%').astype(float)/100\n",
    "listings['host_acceptance_rate']=listings['host_acceptance_rate'].astype(str).str.strip('%').astype(float)/100\n",
    "print(listings.info())"
   ]
  },
  {
   "cell_type": "code",
   "execution_count": null,
   "id": "6435e709-b09e-4b87-86a6-4ae244aa8cb0",
   "metadata": {
    "scrolled": true
   },
   "outputs": [],
   "source": [
    "#Dropping rows with NA prices\n",
    "listings = listings.dropna(subset = ['price'], axis=0)\n",
    "\n",
    "#Average price of rentals by hosts.\n",
    "listings.groupby('host_id')['price'].mean().sort_values(ascending=False).to_frame()\n",
    "#Getting the top 5 hosts with the largest average price\n",
    "top_5 = listings.groupby('host_id')['price'].mean().sort_values(ascending=False).to_frame().index[0:5]\n",
    "\n",
    "#Investigating the rentals of the highest price\n",
    "listings[listings['host_id'].isin(top_5)]\n",
    "\n",
    "\n",
    "#looks like many of these listings have N/A values for locations. \n",
    "#We will get rid of any rows with null values in location\n",
    "listings = listings.dropna(subset = ['neighbourhood_cleansed'], axis=0)\n",
    "listings = listings.dropna(subset = ['neighbourhood_group_cleansed'], axis=0)\n",
    "\n",
    "#Removing any duplicates\n",
    "listings.duplicated().sum()\n",
    "listings.drop_duplicates(inplace=True)"
   ]
  },
  {
   "cell_type": "code",
   "execution_count": null,
   "id": "803ab16b-7255-4a06-ac58-adcce6149b8a",
   "metadata": {},
   "outputs": [
    {
     "data": {
      "text/plain": [
       "id                                  0\n",
       "name                                0\n",
       "neighborhood_overview           10266\n",
       "host_id                             0\n",
       "host_name                           0\n",
       "host_since                          0\n",
       "host_response_rate               3257\n",
       "host_acceptance_rate             3517\n",
       "neighbourhood_cleansed              0\n",
       "neighbourhood_group_cleansed        0\n",
       "latitude                            0\n",
       "longitude                           0\n",
       "room_type                           0\n",
       "accommodates                        0\n",
       "bathrooms                           5\n",
       "bedrooms                           53\n",
       "beds                              148\n",
       "price                               0\n",
       "number_of_reviews                   0\n",
       "review_scores_rating             6703\n",
       "review_scores_accuracy           6703\n",
       "availability_365                    0\n",
       "review_scores_cleanliness        6703\n",
       "review_scores_checkin            6703\n",
       "review_scores_communication      6703\n",
       "review_scores_location           6704\n",
       "reviews_per_month                6703\n",
       "dtype: int64\n"
      ]
     },
     "metadata": {},
     "output_type": "display_data"
    }
   ],
   "source": [
    "#Checking the number of null values in each column\n",
    "print(listings.isna().sum())\n",
    "\n",
    "#Looks like there are some reviews/reponses/house info that are N/A. For this practice we will treat N/A as 0\n",
    "listings.fillna(0, inplace=True)\n",
    "listings.isna().sum()\n"
   ]
  },
  {
   "cell_type": "code",
   "execution_count": null,
   "id": "7bd4efdf-4218-47ee-aec8-06a5daf12645",
   "metadata": {},
   "outputs": [],
   "source": [
    "#Data Analysis\n",
    "#What is the number of listing per neighborhood\n",
    "listings.groupby('neighbourhood_cleansed')['neighbourhood_cleansed'].count().sort_values(ascending=False)\n",
    "\n",
    "\n",
    "#Number of listing for the top 20 neighborhoods\n",
    "#Creating new dataframe with only those neighborhooods\n",
    "top20=listings.groupby('neighbourhood_cleansed')['neighbourhood_cleansed'].count().sort_values(ascending=False).index[0:20]\n",
    "top20_neighborhoods = listings[listings['neighbourhood_cleansed'].isin(top20)]\n",
    "\n",
    "#To sort the histograph we need to sort the dataframe. First we count the number of values in each category\n",
    "counts = top20_neighborhoods['neighbourhood_cleansed'].value_counts()\n",
    "#Sort the DataFrame based on the counts\n",
    "top20_neighborhoods_sorted = top20_neighborhoods.sort_values(by='neighbourhood_cleansed', key=lambda x: counts[x], ascending=False)\n",
    "\n",
    "#Visualizing new sorted top 20 neighborhoods. We are adding counts of neighborhood and median price in same graph\n",
    "fig, ax1 = plt.subplots()\n",
    "plt.xticks(rotation=45, horizontalalignment='right') #Adding xtick to rotate xlabels. Only works if we add before ax2=ax1.twinx()\n",
    "\n",
    "ax2 = ax1.twinx() # secondary y-axis\n",
    "ax3 = sns.histplot( # bar chart\n",
    "    data=top20_neighborhoods_sorted,\n",
    "    x='neighbourhood_cleansed',\n",
    "    ax=ax1 #Making this our 1st y axis\n",
    ")\n",
    "\n",
    "ax4 = sns.lineplot(data=top20_neighborhoods_sorted, #line chart\n",
    "                   x=\"neighbourhood_cleansed\",  \n",
    "                   y=\"price\", \n",
    "                   color='orange', \n",
    "                   estimator='median', \n",
    "                   ax=ax2, #making this our 2nd y axis\n",
    "                   errorbar=None #gets rid of the line chart intervals\n",
    "                  )\n",
    "\n",
    "ax3.bar_label(ax3.containers[0],fontsize=.5 ) #adding labels to bar chart\n",
    "plt.show()"
   ]
  },
  {
   "cell_type": "code",
   "execution_count": null,
   "id": "7d51dc4f-00ba-49bd-b849-d766570c5879",
   "metadata": {},
   "outputs": [],
   "source": [
    "#Adding single line chart to compare to previous visual. The visuals look accurate\n",
    "ax2 = sns.lineplot(data=top20_neighborhoods_sorted, x=\"neighbourhood_cleansed\",  y=\"price\", color='orange', estimator='median', errorbar=None)\n",
    "plt.xticks(rotation=45, horizontalalignment='right')\n",
    "plt.show()\n",
    "\n",
    "top20_neighborhoods_sorted.groupby('neighbourhood_cleansed')['price'].median().sort_values(ascending=False)"
   ]
  },
  {
   "cell_type": "code",
   "execution_count": null,
   "id": "bd4675de-16da-46b7-9b8d-55a59d044ccf",
   "metadata": {},
   "outputs": [],
   "source": [
    "#Data Analysis Conclusion.\n",
    "#Bedford-Stuyvesant has the largest number of airbnb listings but they rank 15 in terms of highest median price. The lower price compared to the other neighborhoods explains why it has high amounts of listings\n",
    "#This explains why midtown, which has the lowest number of listings has a the highest median price\n",
    "#Yet the second largest number of airbnb listings are in Midtown, which has ranks 3rd in highest price. "
   ]
  },
  {
   "cell_type": "code",
   "execution_count": null,
   "id": "95cd8d1d-a49c-4897-bd49-c1f6419f4a06",
   "metadata": {},
   "outputs": [],
   "source": [
    "#Data Analysis 2\n",
    "#Confirming correlation between price and neighborhood\n",
    "correlation_matrix = listings.corr(numeric_only=True, method=\"pearson\")\n",
    "plt.figure(figsize=(11,11), dpi = 50)\n",
    "\n",
    "sns.heatmap(correlation_matrix, annot=True)\n",
    "plt.title(\"Correlation Metrix for Numeric Features\")\n",
    "\n",
    "plt.yticks(rotation=0)\n",
    "plt.show()"
   ]
  },
  {
   "cell_type": "code",
   "execution_count": null,
   "id": "eebb78ef-35d7-4cb8-bb84-29f220c96b84",
   "metadata": {},
   "outputs": [],
   "source": [
    "#The column \"neighborhood\" is not numeric. To check correlation we will first convert non numeric columns to numbers"
   ]
  },
  {
   "cell_type": "code",
   "execution_count": null,
   "id": "224be913-e01c-4060-b091-5f27e9ed1552",
   "metadata": {},
   "outputs": [
    {
     "data": {
      "text/plain": [
       "0        Manhattan\n",
       "1         Brooklyn\n",
       "2        Manhattan\n",
       "3        Manhattan\n",
       "5         Brooklyn\n",
       "           ...    \n",
       "16913     Brooklyn\n",
       "16914     Brooklyn\n",
       "16915     Brooklyn\n",
       "16916        Bronx\n",
       "16917        Bronx\n",
       "Name: neighbourhood_group_cleansed, Length: 22719, dtype: object\n"
      ]
     },
     "metadata": {},
     "output_type": "display_data"
    }
   ],
   "source": [
    "listings['neighbourhood_group_cleansed']"
   ]
  },
  {
   "cell_type": "code",
   "execution_count": null,
   "id": "b0740875-2c1d-4989-b110-e19729dc2710",
   "metadata": {},
   "outputs": [
    {
     "data": {
      "text/plain": [
       "                 id   name  ...  review_scores_location  reviews_per_month\n",
       "0      2.595000e+03  17681  ...                    4.81               0.27\n",
       "1      6.848000e+03  14860  ...                    4.69               1.04\n",
       "2      6.872000e+03  20993  ...                    5.00               0.03\n",
       "3      6.990000e+03  20764  ...                    4.85               1.37\n",
       "5      7.097000e+03  15183  ...                    4.95               2.16\n",
       "...             ...    ...  ...                     ...                ...\n",
       "16913  1.280000e+18   9283  ...                    0.00               0.00\n",
       "16914  1.280000e+18  12657  ...                    0.00               0.00\n",
       "16915  1.280000e+18  13635  ...                    0.00               0.00\n",
       "16916  1.280000e+18   2812  ...                    0.00               0.00\n",
       "16917  1.280000e+18    451  ...                    0.00               0.00\n",
       "\n",
       "[22719 rows x 27 columns]\n"
      ]
     },
     "metadata": {},
     "output_type": "display_data"
    }
   ],
   "source": [
    "#converting object columns to numbers\n",
    "df_numerized = listings.copy()\n",
    "\n",
    "for col_name in df_numerized.columns:\n",
    "    if(df_numerized[col_name].dtype == \"object\"):\n",
    "        df_numerized[col_name] = df_numerized[col_name].astype(\"category\") \n",
    "        df_numerized[col_name] = df_numerized[col_name].cat.codes\n",
    "\n",
    "print(df_numerized)"
   ]
  },
  {
   "cell_type": "code",
   "execution_count": null,
   "id": "c9bd0433-d652-488c-ae8a-dbc372e47f5f",
   "metadata": {},
   "outputs": [],
   "source": [
    "#Plotting all numeric columns in a correlation matrix\n",
    "correlation_matrix = df_numerized.corr(numeric_only=True, method=\"pearson\")\n",
    "plt.figure(figsize=(14,14), dpi = 40)\n",
    "sns.heatmap(correlation_matrix, annot=True)\n",
    "\n",
    "plt.title(\"Correlation Metrix for Numeric Features\")\n",
    "\n",
    "plt.yticks(rotation=0)\n",
    "plt.show()"
   ]
  },
  {
   "cell_type": "code",
   "execution_count": null,
   "id": "ee143b5b-3028-4011-9784-2fb0da701781",
   "metadata": {},
   "outputs": [
    {
     "data": {
      "text/plain": [
       "                 id  ... reviews_per_month\n",
       "0      2.595000e+03  ...              0.27\n",
       "1      6.848000e+03  ...              1.04\n",
       "2      6.872000e+03  ...              0.03\n",
       "3      6.990000e+03  ...              1.37\n",
       "5      7.097000e+03  ...              2.16\n",
       "...             ...  ...               ...\n",
       "16913  1.280000e+18  ...              0.00\n",
       "16914  1.280000e+18  ...              0.00\n",
       "16915  1.280000e+18  ...              0.00\n",
       "16916  1.280000e+18  ...              0.00\n",
       "16917  1.280000e+18  ...              0.00\n",
       "\n",
       "[22719 rows x 27 columns]\n"
      ]
     },
     "metadata": {},
     "output_type": "display_data"
    }
   ],
   "source": [
    "listings"
   ]
  },
  {
   "cell_type": "code",
   "execution_count": null,
   "id": "d39ea0b8-a7a4-4490-bec3-c8667a2290b7",
   "metadata": {},
   "outputs": [],
   "source": [
    "#Looking at the matrix, it turns out the price and \"neighborhood_cleansed\" does not have a high correlation.\n",
    "#The matrix does give us other columns that have high correlation with each other\n"
   ]
  },
  {
   "cell_type": "code",
   "execution_count": null,
   "id": "119c111f-11a7-4bed-b15c-9547e7b32ec8",
   "metadata": {
    "scrolled": true
   },
   "outputs": [
    {
     "data": {
      "text/plain": [
       "id                 id                             1.000000\n",
       "                   name                           0.009762\n",
       "                   neighborhood_overview         -0.194844\n",
       "                   host_id                        0.427655\n",
       "                   host_name                      0.028509\n",
       "                                                    ...   \n",
       "reviews_per_month  review_scores_cleanliness      0.290912\n",
       "                   review_scores_checkin          0.284610\n",
       "                   review_scores_communication    0.286429\n",
       "                   review_scores_location         0.283211\n",
       "                   reviews_per_month              1.000000\n",
       "Length: 729, dtype: float64\n"
      ]
     },
     "metadata": {},
     "output_type": "display_data"
    }
   ],
   "source": [
    "#The matrix is a bit too big to spot all of the high correlation. Let's convert it to a table\n",
    "correlation_mat = df_numerized.corr(numeric_only=True)\n",
    "\n",
    "corr_pairs = correlation_mat.unstack()\n",
    "print(corr_pairs)"
   ]
  },
  {
   "cell_type": "code",
   "execution_count": null,
   "id": "39b86aaf-de7f-4237-9278-be2f02d3c7a1",
   "metadata": {},
   "outputs": [
    {
     "data": {
      "text/plain": [
       "reviews_per_month            reviews_per_month              1.000000\n",
       "id                           id                             1.000000\n",
       "review_scores_checkin        review_scores_checkin          1.000000\n",
       "neighborhood_overview        neighborhood_overview          1.000000\n",
       "review_scores_communication  review_scores_communication    1.000000\n",
       "                                                              ...   \n",
       "review_scores_location       id                            -0.453372\n",
       "id                           review_scores_checkin         -0.455553\n",
       "review_scores_checkin        id                            -0.455553\n",
       "review_scores_accuracy       id                            -0.455747\n",
       "id                           review_scores_accuracy        -0.455747\n",
       "Length: 729, dtype: float64\n"
      ]
     },
     "metadata": {},
     "output_type": "display_data"
    }
   ],
   "source": [
    "#Sorting values by highest to lowest\n",
    "sorted_pairs = corr_pairs.sort_values(ascending=False)\n",
    "\n",
    "print(sorted_pairs)"
   ]
  },
  {
   "cell_type": "code",
   "execution_count": null,
   "id": "14aff92e-e48c-49f5-b961-7b309b649861",
   "metadata": {},
   "outputs": [
    {
     "data": {
      "text/plain": [
       "review_scores_rating         review_scores_accuracy         0.995737\n",
       "review_scores_accuracy       review_scores_rating           0.995737\n",
       "review_scores_communication  review_scores_rating           0.994137\n",
       "review_scores_rating         review_scores_communication    0.994137\n",
       "review_scores_checkin        review_scores_communication    0.993344\n",
       "review_scores_communication  review_scores_checkin          0.993344\n",
       "review_scores_rating         review_scores_cleanliness      0.993164\n",
       "review_scores_cleanliness    review_scores_rating           0.993164\n",
       "review_scores_accuracy       review_scores_communication    0.993152\n",
       "review_scores_communication  review_scores_accuracy         0.993152\n",
       "review_scores_checkin        review_scores_rating           0.992323\n",
       "review_scores_rating         review_scores_checkin          0.992323\n",
       "review_scores_cleanliness    review_scores_accuracy         0.991786\n",
       "review_scores_accuracy       review_scores_cleanliness      0.991786\n",
       "review_scores_checkin        review_scores_accuracy         0.991746\n",
       "review_scores_accuracy       review_scores_checkin          0.991746\n",
       "review_scores_location       review_scores_checkin          0.990040\n",
       "review_scores_checkin        review_scores_location         0.990040\n",
       "review_scores_communication  review_scores_cleanliness      0.989198\n",
       "review_scores_cleanliness    review_scores_communication    0.989198\n",
       "review_scores_checkin        review_scores_cleanliness      0.988956\n",
       "review_scores_cleanliness    review_scores_checkin          0.988956\n",
       "review_scores_location       review_scores_accuracy         0.988829\n",
       "review_scores_accuracy       review_scores_location         0.988829\n",
       "review_scores_rating         review_scores_location         0.988820\n",
       "review_scores_location       review_scores_rating           0.988820\n",
       "                             review_scores_communication    0.987746\n",
       "review_scores_communication  review_scores_location         0.987746\n",
       "review_scores_cleanliness    review_scores_location         0.985432\n",
       "review_scores_location       review_scores_cleanliness      0.985432\n",
       "accommodates                 beds                           0.719793\n",
       "beds                         accommodates                   0.719793\n",
       "host_response_rate           host_acceptance_rate           0.646802\n",
       "host_acceptance_rate         host_response_rate             0.646802\n",
       "number_of_reviews            reviews_per_month              0.639069\n",
       "reviews_per_month            number_of_reviews              0.639069\n",
       "bedrooms                     beds                           0.579401\n",
       "beds                         bedrooms                       0.579401\n",
       "accommodates                 bedrooms                       0.501111\n",
       "bedrooms                     accommodates                   0.501111\n",
       "dtype: float64\n"
      ]
     },
     "metadata": {},
     "output_type": "display_data"
    }
   ],
   "source": [
    "#Only showing pairs with high correlation\n",
    "sorted_pairs[((sorted_pairs) >0.5) & (sorted_pairs<1)]"
   ]
  },
  {
   "cell_type": "code",
   "execution_count": null,
   "id": "95d3cffc-2715-40a8-b210-a7159e910b87",
   "metadata": {},
   "outputs": [],
   "source": [
    "#Data Analysis 2 Conclusion\n",
    "#looks like there's a high correlation between review scores."
   ]
  },
  {
   "cell_type": "code",
   "execution_count": null,
   "id": "4a75d590-abcf-4962-8c85-140d8ae6516f",
   "metadata": {},
   "outputs": [
    {
     "data": {
      "text/plain": [
       "0        Manhattan\n",
       "1         Brooklyn\n",
       "2        Manhattan\n",
       "3        Manhattan\n",
       "5         Brooklyn\n",
       "           ...    \n",
       "16913     Brooklyn\n",
       "16914     Brooklyn\n",
       "16915     Brooklyn\n",
       "16916        Bronx\n",
       "16917        Bronx\n",
       "Name: neighbourhood_group_cleansed, Length: 22719, dtype: object\n"
      ]
     },
     "metadata": {},
     "output_type": "display_data"
    }
   ],
   "source": [
    "listings['neighbourhood_group_cleansed']"
   ]
  },
  {
   "cell_type": "code",
   "execution_count": null,
   "id": "0cd04834-9096-4749-afe7-49b849c646d1",
   "metadata": {},
   "outputs": [],
   "source": [
    "#Data Analysis 3\n",
    "#Let's see the availability of neighborhoods throughout the whole year\n",
    "\n",
    "box = sns.boxplot(data=listings, \n",
    "                  x='neighbourhood_group_cleansed',\n",
    "                  y='availability_365', \n",
    "                  hue='neighbourhood_group_cleansed',\n",
    "                  legend=True,\n",
    "                  showmeans=True, #Optional. You can show the mean in the graph\n",
    "                  meanprops={'marker':'o','markerfacecolor':'white','markeredgecolor':'blue','markersize':'5'} #Desing changes for mean\n",
    "                  )\n",
    "\n",
    "#This line will show dots for each listing\n",
    "#sns.stripplot(x=\"neighbourhood_group_cleansed\", y=\"availability_365\", data=listings, color=\"black\", size=4, ax=box)\n",
    "\n",
    "#You can increase the box legend axis\n",
    "box.legend(prop=dict(size=10))\n",
    "\n",
    "#Can change axis font values\n",
    "sns.set_theme(font_scale=1)\n",
    "\n",
    "\n",
    "plt.show()"
   ]
  },
  {
   "cell_type": "code",
   "execution_count": null,
   "id": "a44cbd25-1a08-439e-97be-d4528f5d1d7a",
   "metadata": {},
   "outputs": [],
   "source": [
    "#Data Analysis Conclusion\n",
    "#Bronx listings had the most availability throughout the year. Listings in Manhattan had the lowest number of avaiablity throughout the year"
   ]
  },
  {
   "cell_type": "code",
   "execution_count": null,
   "metadata": {},
   "outputs": [
    {
     "data": {
      "text/plain": [
       "room_type\n",
       "Entire home/apt    12536\n",
       "Private room        9583\n",
       "Hotel room           354\n",
       "Shared room          246\n",
       "Name: room_type, dtype: int64\n",
       "room_type\n",
       "Entire home/apt    55.178485\n",
       "Private room       42.180554\n",
       "Hotel room          1.558167\n",
       "Shared room         1.082794\n",
       "Name: room_type, dtype: float64\n"
      ]
     },
     "metadata": {},
     "output_type": "display_data"
    }
   ],
   "source": [
    "##Data Analysis 5\n",
    "#Let's see how many room types there are in NYC\n",
    "\n",
    "#print(listings['room_type'])\n",
    "print(listings.groupby(['room_type'])['room_type'].count().sort_values(ascending=False))\n",
    "\n",
    "\n",
    "print(listings.groupby(['room_type'])['room_type'].count().sort_values(ascending=False)/listings['room_type'].count()*100)\n",
    "ax5 = sns.countplot(\n",
    "    data=listings,\n",
    "    x='neighbourhood_group_cleansed',\n",
    "    hue='room_type'\n",
    ")\n",
    "\n",
    "\n",
    "#Shows the value of the first container\n",
    "#ax5.bar_label(ax5.containers[0])\n",
    "\n",
    "#Shows value in all containers and customize fontsize\n",
    "for container in ax5.containers:\n",
    "    ax5.bar_label(container,fontsize=9)\n",
    "\n",
    "\n",
    "plt.show()"
   ]
  },
  {
   "cell_type": "code",
   "execution_count": null,
   "metadata": {},
   "outputs": [],
   "source": [
    "#Data Analysis 5\n",
    "#Most of the room types in NYC are entire homes or apartments.\n",
    "#Although most of these room types are entire homes/apartments, most of these reside in Manhatann. Brooklyn, Queens, and the Bronx have more private rooms compared to entire homes/apt"
   ]
  },
  {
   "cell_type": "code",
   "execution_count": null,
   "id": "16326ae4",
   "metadata": {},
   "outputs": [],
   "source": [
    "#Data Analysis 6\n",
    "#Let's visualize how these room types are spread around NYC\n",
    "\n",
    "import geopandas as gpd\n",
    "import matplotlib.pyplot as plt\n",
    "from geodatasets import get_path\n",
    "\n",
    "# Load a shapefile of NYC boroughs\n",
    "nyc = gpd.read_file(get_path('nybb'))\n",
    "nyc = nyc.to_crs(\"EPSG:4326\")\n",
    "# Plot the map\n",
    "\n",
    "#Creating image of NYC\n",
    "fig, ax = plt.subplots(figsize=(30, 30))\n",
    "nyc.plot(ax=ax, color='lightblue', edgecolor='black')\n",
    "\n",
    "#Creting Scatterplot. This works but it does not show the legend correctly.\n",
    "#colors={'Entire home/apt':'Red', 'Private room':'green', 'Hotel room':'blue', 'Shared room':'yellow'}\n",
    "#ax2 = plt.scatter(x=listings['longitude'], y=listings['latitude'], c=listings['room_type'].map(colors), label='Map')\n",
    "#plt.legend([\"Entire home/apt\", \"Private room\", 'Hotel room', 'Shared room'],loc=\"lower left\")\n",
    "#plt.legend()\n",
    "\n",
    "#This line is optional. You can customize the colors of the dots\n",
    "color={'Entire home/apt':'Red', 'Private room':'green', 'Hotel room':'blue', 'Shared room':'yellow'}\n",
    "\n",
    "#Creating Scatterplot. This is the only way I was able to get the legend to appear completely.\n",
    "for room_type, color in colors.items():\n",
    "    subset = listings[listings['room_type'] == room_type]\n",
    "    plt.scatter(subset['longitude'], subset['latitude'], c=color, label=room_type, s=4)\n",
    "\n",
    "#This line is optional. You can customize the colors of the dots\n",
    "#colors={'Entire home/apt':'Red', 'Private room':'green', 'Hotel room':'blue', 'Shared room':'yellow'}\n",
    "\n",
    "#Creating legend. Here we can only change the font of the legend sub titles\n",
    "legend = plt.legend(loc=\"lower right\", fontsize=10)\n",
    "\n",
    "#Here we change the font size of the bubbles in legend\n",
    "for handle in legend.legend_handles:\n",
    "    handle._sizes = [50]\n",
    "\n",
    "# Add title and labels\n",
    "ax.set_title('New York City Boroughs')\n",
    "ax.set_xlabel('Longitude')\n",
    "ax.set_ylabel('Latitude')\n",
    "\n",
    "\n",
    "#You can create the scatterplot using seaborn as well but can't merge with the mat plt that we made first\n",
    "#ax = sns.lmplot(data=listings, x='longitude',y='latitude', hue='room_type', fit_reg=False)\n",
    "\n",
    "plt.show()\n"
   ]
  },
  {
   "cell_type": "code",
   "execution_count": null,
   "id": "f08998e5",
   "metadata": {},
   "outputs": [
    {
     "data": {
      "text/plain": [
       "Traceback (most recent call last):\n",
       "  File \"c:\\Users\\marioreyes\\.vscode\\extensions\\ms-python.python-2025.2.0-win32-x64\\python_files\\python_server.py\", line 133, in exec_user_input\n",
       "    retval = callable_(user_input, user_globals)\n",
       "  File \"<string>\", line 16, in <module>\n",
       "AttributeError: 'str' object has no attribute 'legend_handles'\n",
       "\n"
      ]
     },
     "metadata": {},
     "output_type": "display_data"
    }
   ],
   "source": [
    "#Data Analysis 7\n",
    "#Let's visualize the price throuhgout NYC\n",
    "\n",
    "# Load a shapefile of NYC boroughs\n",
    "nyc = gpd.read_file(get_path('nybb'))\n",
    "nyc = nyc.to_crs(\"EPSG:4326\")\n",
    "\n",
    "#Creating image of NYC\n",
    "fig, ax = plt.subplots(figsize=(30, 30))\n",
    "nyc.plot(ax=ax, color='lightblue', edgecolor='black')\n",
    "\n",
    "#Cmap is the color scheme used in the gradient. Alpha is the foggy it will be. S is the size of the bubbles\n",
    "scatter = plt.scatter(data=listings,x='longitude', y='latitude',cmap='viridis',c='price', alpha=0.7,s=6)\n",
    "plt.colorbar(scatter, label=\"price\")\n",
    "\n",
    "\n",
    "plt.show()\n"
   ]
  },
  {
   "cell_type": "code",
   "execution_count": null,
   "id": "4a0a3316",
   "metadata": {},
   "outputs": [
    {
     "data": {
      "text/plain": [
       "count    22719.000000\n",
       "mean       216.463885\n",
       "std        380.588275\n",
       "min          8.000000\n",
       "25%         85.000000\n",
       "50%        149.000000\n",
       "75%        250.000000\n",
       "max      20000.000000\n",
       "Name: price, dtype: float64\n",
       "0.10     52.0\n",
       "0.20     74.0\n",
       "0.30     97.0\n",
       "0.40    120.0\n",
       "0.50    149.0\n",
       "0.60    176.0\n",
       "0.70    220.0\n",
       "0.80    294.0\n",
       "0.90    400.0\n",
       "0.95    550.0\n",
       "Name: price, dtype: float64\n"
      ]
     },
     "metadata": {},
     "output_type": "display_data"
    }
   ],
   "source": [
    "#This scatterplot works but it looks like the range of price is being influence by outliers\n",
    "#Let's see the distribution of the column 'price'\n",
    "\n",
    "sns.histplot(data=listings, x='price', bins=500, color='blue')\n",
    "plt.show()\n",
    "\n",
    "print(listings['price'].describe())\n",
    "print(listings['price'].quantile([0.1, 0.2, 0.3, 0.4, 0.5,0.6, 0.7, 0.8, 0.9, .95]))\n",
    "#looks like the 75% of the data is below $250, and 95% if under $550. To better represent this data lets just show 95% of all prices\n",
    "\n",
    "listings_price = listings[listings['price'] < 550]\n",
    "\n",
    "sns.histplot(data=listings_price, x='price', bins=100, color='blue')\n",
    "plt.show()\n",
    "#That's a better distribution\n",
    "\n",
    "\n",
    "#Now let's bring over the NYC map\n",
    "fig, ax = plt.subplots(figsize=(30, 30))\n",
    "nyc.plot(ax=ax, color='lightblue', edgecolor='black')\n",
    "\n",
    "#Creating a scatter plot using the df listings_price\n",
    "scatter = plt.scatter(data=listings_price,x='longitude', y='latitude',c='price', cmap='viridis', alpha=0.7, s=6)\n",
    "plt.colorbar(scatter, label='Price')\n",
    "\n",
    "plt.show()"
   ]
  },
  {
   "cell_type": "code",
   "execution_count": null,
   "id": "a26fa414",
   "metadata": {},
   "outputs": [],
   "source": [
    "#Data Analysis 7 Result\n",
    "#Looking at 95% of the data (to exclude outliers), the most expensive airBnBs are located in Manhattan."
   ]
  },
  {
   "cell_type": "code",
   "execution_count": null,
   "id": "6943e8e3",
   "metadata": {},
   "outputs": [],
   "source": []
  }
 ],
 "metadata": {
  "kernelspec": {
   "display_name": ".venv",
   "language": "python",
   "name": "python3"
  },
  "language_info": {
   "codemirror_mode": {
    "name": "ipython",
    "version": 3
   },
   "file_extension": ".py",
   "mimetype": "text/x-python",
   "name": "python",
   "nbconvert_exporter": "python",
   "pygments_lexer": "ipython3",
   "version": "3.13.2"
  }
 },
 "nbformat": 4,
 "nbformat_minor": 5
}
